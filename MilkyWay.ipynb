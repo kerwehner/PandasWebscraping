{
 "cells": [
  {
   "cell_type": "code",
   "execution_count": 39,
   "id": "40dfea46-e22f-4bef-b903-54ca7040e021",
   "metadata": {},
   "outputs": [],
   "source": [
    "from splinter import Browser\n",
    "from bs4 import BeautifulSoup as bs\n",
    "import time\n",
    "import requests\n",
    "from selenium import webdriver\n",
    "from webdriver_manager.firefox import GeckoDriverManager\n",
    "from selenium.webdriver.firefox.service import Service\n",
    "import pandas as pd\n",
    "from IPython.display import HTML"
   ]
  },
  {
   "cell_type": "code",
   "execution_count": 40,
   "id": "d72c6d3f-27e1-47ad-9f40-1144131ac7da",
   "metadata": {},
   "outputs": [],
   "source": [
    "# Specify the path to Firefox Developer Edition binary\n",
    "firefox_dev_path = r\"C:\\Users\\KW032723\\AppData\\Local\\Firefox Developer Edition\\firefox.exe\"  # Adjust this path if necessary"
   ]
  },
  {
   "cell_type": "code",
   "execution_count": 41,
   "id": "bcc31ed6-4c7d-4c26-b966-511a8df1bf96",
   "metadata": {},
   "outputs": [],
   "source": [
    "# Set options for Firefox, specifying the binary location\n",
    "options = webdriver.FirefoxOptions()\n",
    "options.binary_location = firefox_dev_path"
   ]
  },
  {
   "cell_type": "code",
   "execution_count": 42,
   "id": "25165c6b-8e3e-4ac9-8305-55b0e0105385",
   "metadata": {},
   "outputs": [],
   "source": [
    "# Set up the GeckoDriver with the correct service\n",
    "service = Service(GeckoDriverManager().install())"
   ]
  },
  {
   "cell_type": "code",
   "execution_count": 43,
   "id": "fd0f643e-8fcc-4d65-9b7c-6bf2769eccf3",
   "metadata": {},
   "outputs": [],
   "source": [
    "# Initialize the browser with the correct options\n",
    "browser = Browser('firefox', options=options, service=service, headless=False)"
   ]
  },
  {
   "cell_type": "markdown",
   "id": "80309def-3de2-4692-bb4b-03e79a8463ef",
   "metadata": {},
   "source": [
    "Milky Way Facts"
   ]
  },
  {
   "cell_type": "code",
   "execution_count": 44,
   "id": "5507ffc8-65e8-4596-8cdd-e32d073f7e2c",
   "metadata": {},
   "outputs": [],
   "source": [
    "facts_url = \"https://space-facts.com/galaxies/milky-way/\"\n",
    "browser.visit(facts_url)"
   ]
  },
  {
   "cell_type": "code",
   "execution_count": 45,
   "id": "46a486d3-e75f-45d5-a34d-4272ed775c7e",
   "metadata": {},
   "outputs": [
    {
     "data": {
      "text/html": [
       "<div>\n",
       "<style scoped>\n",
       "    .dataframe tbody tr th:only-of-type {\n",
       "        vertical-align: middle;\n",
       "    }\n",
       "\n",
       "    .dataframe tbody tr th {\n",
       "        vertical-align: top;\n",
       "    }\n",
       "\n",
       "    .dataframe thead th {\n",
       "        text-align: right;\n",
       "    }\n",
       "</style>\n",
       "<table border=\"1\" class=\"dataframe\">\n",
       "  <thead>\n",
       "    <tr style=\"text-align: right;\">\n",
       "      <th></th>\n",
       "      <th>description</th>\n",
       "      <th>value</th>\n",
       "    </tr>\n",
       "  </thead>\n",
       "  <tbody>\n",
       "    <tr>\n",
       "      <th>0</th>\n",
       "      <td>Type:</td>\n",
       "      <td>Barred Spiral</td>\n",
       "    </tr>\n",
       "    <tr>\n",
       "      <th>1</th>\n",
       "      <td>Diameter:</td>\n",
       "      <td>100,000 - 180,000 ly</td>\n",
       "    </tr>\n",
       "    <tr>\n",
       "      <th>2</th>\n",
       "      <td>Distance to Galactic Centre:</td>\n",
       "      <td>27,000 ly</td>\n",
       "    </tr>\n",
       "    <tr>\n",
       "      <th>3</th>\n",
       "      <td>Mass:</td>\n",
       "      <td>800 - 1,500 M☉</td>\n",
       "    </tr>\n",
       "    <tr>\n",
       "      <th>4</th>\n",
       "      <td>Age:</td>\n",
       "      <td>13.6 Billion years</td>\n",
       "    </tr>\n",
       "    <tr>\n",
       "      <th>5</th>\n",
       "      <td>Number of Stars</td>\n",
       "      <td>100 - 400 billion</td>\n",
       "    </tr>\n",
       "    <tr>\n",
       "      <th>6</th>\n",
       "      <td>Constellation:</td>\n",
       "      <td>Sagittarius</td>\n",
       "    </tr>\n",
       "    <tr>\n",
       "      <th>7</th>\n",
       "      <td>Group:</td>\n",
       "      <td>Local Group</td>\n",
       "    </tr>\n",
       "  </tbody>\n",
       "</table>\n",
       "</div>"
      ],
      "text/plain": [
       "                    description                 value\n",
       "0                         Type:         Barred Spiral\n",
       "1                     Diameter:  100,000 - 180,000 ly\n",
       "2  Distance to Galactic Centre:             27,000 ly\n",
       "3                         Mass:        800 - 1,500 M☉\n",
       "4                          Age:    13.6 Billion years\n",
       "5               Number of Stars     100 - 400 billion\n",
       "6                Constellation:           Sagittarius\n",
       "7                        Group:           Local Group"
      ]
     },
     "execution_count": 45,
     "metadata": {},
     "output_type": "execute_result"
    }
   ],
   "source": [
    "# Use Pandas to scrape data\n",
    "tables = pd.read_html('https://space-facts.com/galaxies/milky-way/')\n",
    "\n",
    "# Take second table for Milky Way facts\n",
    "milkyway_df = tables[0]\n",
    "\n",
    "# Rename columns and set index\n",
    "milkyway_df.columns=['description', 'value']\n",
    "milkyway_df"
   ]
  },
  {
   "cell_type": "code",
   "execution_count": 46,
   "id": "6e829914-04fc-4aac-8fb3-8b9252b8a8a4",
   "metadata": {},
   "outputs": [
    {
     "data": {
      "text/plain": [
       "['<table class=\"dataframe data table table-borderless\">\\n  <tbody>\\n    <tr>\\n      <td>Type:</td>\\n      <td>Barred Spiral</td>\\n    </tr>\\n    <tr>\\n      <td>Diameter:</td>\\n      <td>100,000 - 180,000 ly</td>\\n    </tr>\\n    <tr>\\n      <td>Distance to Galactic Centre:</td>\\n      <td>27,000 ly</td>\\n    </tr>\\n    <tr>\\n      <td>Mass:</td>\\n      <td>800 - 1,500 M☉</td>\\n    </tr>\\n    <tr>\\n      <td>Age:</td>\\n      <td>13.6 Billion years</td>\\n    </tr>\\n    <tr>\\n      <td>Number of Stars</td>\\n      <td>100 - 400 billion</td>\\n    </tr>\\n    <tr>\\n      <td>Constellation:</td>\\n      <td>Sagittarius</td>\\n    </tr>\\n    <tr>\\n      <td>Group:</td>\\n      <td>Local Group</td>\\n    </tr>\\n  </tbody>\\n</table>']"
      ]
     },
     "execution_count": 46,
     "metadata": {},
     "output_type": "execute_result"
    }
   ],
   "source": [
    "# Convert table to html\n",
    "milkyway_facts_table = [milkyway_df.to_html(classes='data table table-borderless', index=False, header=False, border=0)]\n",
    "milkyway_facts_table"
   ]
  },
  {
   "cell_type": "code",
   "execution_count": 47,
   "id": "fa8f6628-3db5-4ea9-bffa-79c0ccc230ed",
   "metadata": {
    "scrolled": true
   },
   "outputs": [
    {
     "data": {
      "text/html": [
       "<table><tr><td>Type:</td><td>Barred Spiral\n",
       "</td></tr><tr><td>Diameter:</td><td>100,000 - 180,000 ly</td></tr><tr><td>Distance to Galactic Centre:</td><td>27,000 ly</td></tr><tr><td>Mass:</td><td>800 - 1,500 M☉</td></tr><tr><td>Age:</td><td>13.6 Billion years</td></tr><tr><td>Number of Stars</td><td>100 - 400 billion</td></tr><tr><td>Constellation:</td><td>Sagittarius</td></tr><tr><td>Group:</td><td>Local Group</td></tr></table>"
      ],
      "text/plain": [
       "<IPython.core.display.HTML object>"
      ]
     },
     "metadata": {},
     "output_type": "display_data"
    }
   ],
   "source": [
    "# Extract the data \n",
    "table = soup.find('table')\n",
    "rows = table.find_all('tr')\n",
    "\n",
    "# Build the HTML content\n",
    "html_content = '<table>'\n",
    "for row in rows:\n",
    "    html_content += '<tr>'\n",
    "    cells = row.find_all(['td', 'th'])\n",
    "    for cell in cells:\n",
    "        html_content += f'<td>{cell.text}</td>'\n",
    "    html_content += '</tr>'\n",
    "html_content += '</table>'\n",
    "\n",
    "# Display the HTML table\n",
    "display(HTML(html_content))\n"
   ]
  },
  {
   "cell_type": "markdown",
   "id": "f6ec274b-90ce-4b27-ab06-7e5de9c4bbf4",
   "metadata": {},
   "source": [
    "Jupiter Facts"
   ]
  },
  {
   "cell_type": "code",
   "execution_count": 51,
   "id": "b5c5fd10-728d-4efb-88ae-8bba8175227d",
   "metadata": {},
   "outputs": [],
   "source": [
    "# Open browser to USGS Astrogeology site\n",
    "browser.visit('https://space-facts.com/jupiter/')"
   ]
  },
  {
   "cell_type": "code",
   "execution_count": 56,
   "id": "fe0cc1dd-8cd8-47f9-8c44-f211062a32f2",
   "metadata": {},
   "outputs": [
    {
     "name": "stdout",
     "output_type": "stream",
     "text": [
      "Jupiter is the largest planet in the solar system and is the fifth planet out from the Sun\n"
     ]
    }
   ],
   "source": [
    "html = browser.html\n",
    "soup = bs(html, 'html.parser')\n",
    "\n",
    "# Search for the meta tag with property 'og:description'\n",
    "meta_tag = soup.find('meta', property='og:description')\n",
    "\n",
    "# Check if the meta tag is found and extract the content\n",
    "if meta_tag:\n",
    "    description = meta_tag.get('content')\n",
    "    if description:\n",
    "        print(description.split('.')[0])  # Print the first sentence\n",
    "    else:\n",
    "        print(\"No content found in the meta tag.\")\n",
    "else:\n",
    "    print(\"No meta tag found with the specified property.\")\n",
    "\n",
    "\n"
   ]
  },
  {
   "cell_type": "code",
   "execution_count": 57,
   "id": "a61c8df2-dae8-4f48-8d5d-6adabf078268",
   "metadata": {},
   "outputs": [
    {
     "name": "stdout",
     "output_type": "stream",
     "text": [
      "It is two and a half times more massive than all the other planets in the solar system combined.\n"
     ]
    }
   ],
   "source": [
    "# Find the paragraph containing the information about Jupiter\n",
    "entry_content = soup.find('div', class_='entry-content clearfix')\n",
    "if entry_content:\n",
    "    paragraph = entry_content.find('p')\n",
    "    if paragraph:\n",
    "        text = paragraph.text\n",
    "        # Extract the specific information about Jupiter's size\n",
    "        start = text.find(\"It is two and a half times\")\n",
    "        end = text.find(\"combined.\") + len(\"combined.\")\n",
    "        jupiter_info = text[start:end]\n",
    "        print(jupiter_info)\n",
    "    else:\n",
    "        print(\"No paragraph found in the entry content.\")\n",
    "else:\n",
    "    print(\"No entry content found with the specified class.\")"
   ]
  },
  {
   "cell_type": "markdown",
   "id": "b0b34f1f-f365-43be-81e5-9a68a93f3ce4",
   "metadata": {},
   "source": [
    "Estimated Reading Time"
   ]
  },
  {
   "cell_type": "code",
   "execution_count": 62,
   "id": "80358be9-c863-4f52-95dc-103126784494",
   "metadata": {},
   "outputs": [
    {
     "name": "stdout",
     "output_type": "stream",
     "text": [
      "Estimated reading time: 4 minutes\n"
     ]
    }
   ],
   "source": [
    "# Find the meta tag with the name 'twitter:data1'\n",
    "meta_tag = soup.find('meta', attrs={'name': 'twitter:data1'})\n",
    "\n",
    "# Check if the meta tag is found and extract the content\n",
    "if meta_tag:\n",
    "    reading_time = meta_tag.get('content')\n",
    "    if reading_time:\n",
    "        print(f\"Estimated reading time: {reading_time}\")\n",
    "    else:\n",
    "        print(\"No content found in the meta tag.\")\n",
    "else:\n",
    "    print(\"No meta tag found with the specified name.\")"
   ]
  },
  {
   "cell_type": "code",
   "execution_count": null,
   "id": "13606f68-d3d2-48e0-81e7-4ba342ffc02b",
   "metadata": {},
   "outputs": [],
   "source": []
  }
 ],
 "metadata": {
  "kernelspec": {
   "display_name": "Python 3 (ipykernel)",
   "language": "python",
   "name": "python3"
  },
  "language_info": {
   "codemirror_mode": {
    "name": "ipython",
    "version": 3
   },
   "file_extension": ".py",
   "mimetype": "text/x-python",
   "name": "python",
   "nbconvert_exporter": "python",
   "pygments_lexer": "ipython3",
   "version": "3.12.6"
  }
 },
 "nbformat": 4,
 "nbformat_minor": 5
}
