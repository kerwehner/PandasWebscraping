{
 "cells": [
  {
   "cell_type": "code",
   "execution_count": 82,
   "id": "40dfea46-e22f-4bef-b903-54ca7040e021",
   "metadata": {},
   "outputs": [],
   "source": [
    "from splinter import Browser\n",
    "from bs4 import BeautifulSoup as bs\n",
    "import time\n",
    "import requests\n",
    "from selenium import webdriver\n",
    "from webdriver_manager.firefox import GeckoDriverManager\n",
    "from selenium.webdriver.firefox.service import Service\n",
    "import pandas as pd"
   ]
  },
  {
   "cell_type": "code",
   "execution_count": 83,
   "id": "d72c6d3f-27e1-47ad-9f40-1144131ac7da",
   "metadata": {},
   "outputs": [],
   "source": [
    "# Specify the path to Firefox Developer Edition binary\n",
    "firefox_dev_path = r\"C:\\Users\\KW032723\\AppData\\Local\\Firefox Developer Edition\\firefox.exe\"  # Adjust this path if necessary"
   ]
  },
  {
   "cell_type": "code",
   "execution_count": 84,
   "id": "bcc31ed6-4c7d-4c26-b966-511a8df1bf96",
   "metadata": {},
   "outputs": [],
   "source": [
    "# Set options for Firefox, specifying the binary location\n",
    "options = webdriver.FirefoxOptions()\n",
    "options.binary_location = firefox_dev_path"
   ]
  },
  {
   "cell_type": "code",
   "execution_count": 85,
   "id": "25165c6b-8e3e-4ac9-8305-55b0e0105385",
   "metadata": {},
   "outputs": [],
   "source": [
    "# Set up the GeckoDriver with the correct service\n",
    "service = Service(GeckoDriverManager().install())"
   ]
  },
  {
   "cell_type": "code",
   "execution_count": 86,
   "id": "fd0f643e-8fcc-4d65-9b7c-6bf2769eccf3",
   "metadata": {},
   "outputs": [],
   "source": [
    "# Initialize the browser with the correct options\n",
    "browser = Browser('firefox', options=options, service=service, headless=False)"
   ]
  },
  {
   "cell_type": "markdown",
   "id": "80309def-3de2-4692-bb4b-03e79a8463ef",
   "metadata": {},
   "source": [
    "Mars Facts"
   ]
  },
  {
   "cell_type": "code",
   "execution_count": 93,
   "id": "5507ffc8-65e8-4596-8cdd-e32d073f7e2c",
   "metadata": {},
   "outputs": [],
   "source": [
    "facts_url = \"https://space-facts.com/mars/\"\n",
    "browser.visit(facts_url)"
   ]
  },
  {
   "cell_type": "code",
   "execution_count": 94,
   "id": "46a486d3-e75f-45d5-a34d-4272ed775c7e",
   "metadata": {},
   "outputs": [
    {
     "data": {
      "text/html": [
       "<div>\n",
       "<style scoped>\n",
       "    .dataframe tbody tr th:only-of-type {\n",
       "        vertical-align: middle;\n",
       "    }\n",
       "\n",
       "    .dataframe tbody tr th {\n",
       "        vertical-align: top;\n",
       "    }\n",
       "\n",
       "    .dataframe thead th {\n",
       "        text-align: right;\n",
       "    }\n",
       "</style>\n",
       "<table border=\"1\" class=\"dataframe\">\n",
       "  <thead>\n",
       "    <tr style=\"text-align: right;\">\n",
       "      <th></th>\n",
       "      <th>description</th>\n",
       "      <th>value</th>\n",
       "    </tr>\n",
       "  </thead>\n",
       "  <tbody>\n",
       "    <tr>\n",
       "      <th>0</th>\n",
       "      <td>Equatorial Diameter:</td>\n",
       "      <td>6,792 km</td>\n",
       "    </tr>\n",
       "    <tr>\n",
       "      <th>1</th>\n",
       "      <td>Polar Diameter:</td>\n",
       "      <td>6,752 km</td>\n",
       "    </tr>\n",
       "    <tr>\n",
       "      <th>2</th>\n",
       "      <td>Mass:</td>\n",
       "      <td>6.39 × 10^23 kg (0.11 Earths)</td>\n",
       "    </tr>\n",
       "    <tr>\n",
       "      <th>3</th>\n",
       "      <td>Moons:</td>\n",
       "      <td>2 (Phobos &amp; Deimos)</td>\n",
       "    </tr>\n",
       "    <tr>\n",
       "      <th>4</th>\n",
       "      <td>Orbit Distance:</td>\n",
       "      <td>227,943,824 km (1.38 AU)</td>\n",
       "    </tr>\n",
       "    <tr>\n",
       "      <th>5</th>\n",
       "      <td>Orbit Period:</td>\n",
       "      <td>687 days (1.9 years)</td>\n",
       "    </tr>\n",
       "    <tr>\n",
       "      <th>6</th>\n",
       "      <td>Surface Temperature:</td>\n",
       "      <td>-87 to -5 °C</td>\n",
       "    </tr>\n",
       "    <tr>\n",
       "      <th>7</th>\n",
       "      <td>First Record:</td>\n",
       "      <td>2nd millennium BC</td>\n",
       "    </tr>\n",
       "    <tr>\n",
       "      <th>8</th>\n",
       "      <td>Recorded By:</td>\n",
       "      <td>Egyptian astronomers</td>\n",
       "    </tr>\n",
       "  </tbody>\n",
       "</table>\n",
       "</div>"
      ],
      "text/plain": [
       "            description                          value\n",
       "0  Equatorial Diameter:                       6,792 km\n",
       "1       Polar Diameter:                       6,752 km\n",
       "2                 Mass:  6.39 × 10^23 kg (0.11 Earths)\n",
       "3                Moons:            2 (Phobos & Deimos)\n",
       "4       Orbit Distance:       227,943,824 km (1.38 AU)\n",
       "5         Orbit Period:           687 days (1.9 years)\n",
       "6  Surface Temperature:                   -87 to -5 °C\n",
       "7         First Record:              2nd millennium BC\n",
       "8          Recorded By:           Egyptian astronomers"
      ]
     },
     "execution_count": 94,
     "metadata": {},
     "output_type": "execute_result"
    }
   ],
   "source": [
    "# Use Pandas to scrape data\n",
    "tables = pd.read_html('https://space-facts.com/mars/')\n",
    "\n",
    "# Take second table for Mars facts\n",
    "mars_df = tables[0]\n",
    "\n",
    "# Rename columns and set index\n",
    "mars_df.columns=['description', 'value']\n",
    "mars_df"
   ]
  },
  {
   "cell_type": "code",
   "execution_count": 95,
   "id": "6e829914-04fc-4aac-8fb3-8b9252b8a8a4",
   "metadata": {},
   "outputs": [
    {
     "data": {
      "text/plain": [
       "['<table class=\"dataframe data table table-borderless\">\\n  <tbody>\\n    <tr>\\n      <td>Equatorial Diameter:</td>\\n      <td>6,792 km</td>\\n    </tr>\\n    <tr>\\n      <td>Polar Diameter:</td>\\n      <td>6,752 km</td>\\n    </tr>\\n    <tr>\\n      <td>Mass:</td>\\n      <td>6.39 × 10^23 kg (0.11 Earths)</td>\\n    </tr>\\n    <tr>\\n      <td>Moons:</td>\\n      <td>2 (Phobos &amp; Deimos)</td>\\n    </tr>\\n    <tr>\\n      <td>Orbit Distance:</td>\\n      <td>227,943,824 km (1.38 AU)</td>\\n    </tr>\\n    <tr>\\n      <td>Orbit Period:</td>\\n      <td>687 days (1.9 years)</td>\\n    </tr>\\n    <tr>\\n      <td>Surface Temperature:</td>\\n      <td>-87 to -5 °C</td>\\n    </tr>\\n    <tr>\\n      <td>First Record:</td>\\n      <td>2nd millennium BC</td>\\n    </tr>\\n    <tr>\\n      <td>Recorded By:</td>\\n      <td>Egyptian astronomers</td>\\n    </tr>\\n  </tbody>\\n</table>']"
      ]
     },
     "execution_count": 95,
     "metadata": {},
     "output_type": "execute_result"
    }
   ],
   "source": [
    "# Convert table to html\n",
    "mars_facts_table = [mars_df.to_html(classes='data table table-borderless', index=False, header=False, border=0)]\n",
    "mars_facts_table"
   ]
  },
  {
   "cell_type": "code",
   "execution_count": 101,
   "id": "fa8f6628-3db5-4ea9-bffa-79c0ccc230ed",
   "metadata": {
    "scrolled": true
   },
   "outputs": [
    {
     "data": {
      "text/html": [
       "<table><tr><td>Mars</td><td>Facts</td></tr></table>"
      ],
      "text/plain": [
       "<IPython.core.display.HTML object>"
      ]
     },
     "execution_count": 101,
     "metadata": {},
     "output_type": "execute_result"
    }
   ],
   "source": [
    "# Display the HTML table\n",
    "from IPython.display import HTML\n",
    "HTML(html_content)"
   ]
  },
  {
   "cell_type": "markdown",
   "id": "f6ec274b-90ce-4b27-ab06-7e5de9c4bbf4",
   "metadata": {},
   "source": [
    "Mars Hemispheres"
   ]
  },
  {
   "cell_type": "code",
   "execution_count": 102,
   "id": "b5c5fd10-728d-4efb-88ae-8bba8175227d",
   "metadata": {},
   "outputs": [],
   "source": [
    "# Open browser to USGS Astrogeology site\n",
    "browser.visit('https://astrogeology.usgs.gov/search/?target=&system=&p=1&accscope=&geoform=&mapprojn=&missikey=&searchBar=hemisphere')"
   ]
  },
  {
   "cell_type": "code",
   "execution_count": 103,
   "id": "fe0cc1dd-8cd8-47f9-8c44-f211062a32f2",
   "metadata": {},
   "outputs": [
    {
     "data": {
      "text/plain": [
       "['PLUTO',\n",
       " 'NEPTUNE',\n",
       " 'URANUS',\n",
       " 'SATURN',\n",
       " 'JUPITER',\n",
       " 'SMALL BODIES',\n",
       " 'MARS',\n",
       " 'MOON',\n",
       " 'VENUS',\n",
       " 'MERCURY']"
      ]
     },
     "execution_count": 103,
     "metadata": {},
     "output_type": "execute_result"
    }
   ],
   "source": [
    "html = browser.html\n",
    "soup = bs(html, 'html.parser')\n",
    "\n",
    "hemi_names = []\n",
    "\n",
    "# Search for the names of all planets\n",
    "results = soup.find_all('div', class_=\"planet-button\")\n",
    "\n",
    "# Check if results is not empty\n",
    "if results:\n",
    "    for result in results:\n",
    "        span = result.find('span')\n",
    "        if span:\n",
    "            hemi_names.append(span.text)\n",
    "else:\n",
    "    print(\"No results found with the specified class name.\")\n",
    "\n",
    "hemi_names\n"
   ]
  },
  {
   "cell_type": "markdown",
   "id": "0f5c0a06-5153-41b6-b4e0-fb289b966e3b",
   "metadata": {},
   "source": [
    "Images"
   ]
  },
  {
   "cell_type": "code",
   "execution_count": 104,
   "id": "a61c8df2-dae8-4f48-8d5d-6adabf078268",
   "metadata": {},
   "outputs": [
    {
     "name": "stdout",
     "output_type": "stream",
     "text": [
      "Visiting URL: https://astrogeology.usgs.gov/search/map/lunar-kaguya-multiband-imager-mosaics\n",
      "No image found for URL: https://astrogeology.usgs.gov/search/map/lunar-kaguya-multiband-imager-mosaics\n",
      "Visiting URL: https://astrogeology.usgs.gov/search/map/saturn-voyager-airbrush-global-products\n",
      "No image found for URL: https://astrogeology.usgs.gov/search/map/saturn-voyager-airbrush-global-products\n",
      "Visiting URL: https://astrogeology.usgs.gov/search/map/control-networks\n",
      "No image found for URL: https://astrogeology.usgs.gov/search/map/control-networks\n",
      "Visiting URL: https://astrogeology.usgs.gov/search/map/moon-apollo-anaglyph-3d-images\n",
      "No image found for URL: https://astrogeology.usgs.gov/search/map/moon-apollo-anaglyph-3d-images\n",
      "Visiting URL: https://astrogeology.usgs.gov/search/map/moon-apollo-traverse-maps\n",
      "No image found for URL: https://astrogeology.usgs.gov/search/map/moon-apollo-traverse-maps\n",
      "Visiting URL: https://astrogeology.usgs.gov/search/map/mars-viking-global-products\n",
      "No image found for URL: https://astrogeology.usgs.gov/search/map/mars-viking-global-products\n",
      "Visiting URL: https://astrogeology.usgs.gov/search/map/mars-themis-controlled-mosaics-and-final-smithed-kernels \n",
      "No image found for URL: https://astrogeology.usgs.gov/search/map/mars-themis-controlled-mosaics-and-final-smithed-kernels \n",
      "Visiting URL: https://astrogeology.usgs.gov/search/map/new-horizon-global-mosaics\n",
      "No image found for URL: https://astrogeology.usgs.gov/search/map/new-horizon-global-mosaics\n",
      "Visiting URL: https://astrogeology.usgs.gov/search/map/venus_maps_of_part_of_the_northern_hemisphere\n",
      "Found image link: https://astrogeology.usgs.govNone\n",
      "Visiting URL: https://astrogeology.usgs.gov/search/map/moon_color_coded_topography_and_shaded_relief_maps_of_the_lunar_hemispheres\n",
      "Found image link: https://astrogeology.usgs.govhttps://astrogeology.usgs.gov/ckan/dataset/81bd932b-f575-4d57-85b6-d5fd27958ed4/resource/e32f3cda-1b09-4453-9837-86ebc65d6473/download/full.jpg\n",
      "Visiting URL: https://astrogeology.usgs.gov/search/map/venus_geomorphic_geologic_map_of_part_of_the_northern_hemisphere\n",
      "Found image link: https://astrogeology.usgs.govhttps://astrogeology.usgs.gov/ckan/dataset/70faffb0-986d-4305-8a10-3180d22ae215/resource/347d6267-5f90-4238-8af9-04a45c6c3e0f/download/full.jpg\n",
      "Visiting URL: https://astrogeology.usgs.gov/search/map/valles_marineris_hemisphere_unenhanced\n",
      "Found image link: https://astrogeology.usgs.govhttps://astrogeology.usgs.gov/ckan/dataset/35fea1d8-b9db-4471-a09f-688537cfcefc/resource/7ebe81d6-2a94-43b0-9578-378dd9f3e1a5/download/full.jpg\n",
      "Visiting URL: https://astrogeology.usgs.gov/search/map/valles_marineris_hemisphere_enhanced\n",
      "Found image link: https://astrogeology.usgs.govhttps://astrogeology.usgs.gov/ckan/dataset/daa79b13-f5e0-462e-8b7d-c94d9d2907c3/resource/ae080c7e-c4b7-460b-8059-0fa807aa8087/download/full.jpg\n",
      "Visiting URL: https://astrogeology.usgs.gov/search/map/syrtis_major_hemisphere_unenhanced\n",
      "Found image link: https://astrogeology.usgs.govhttps://astrogeology.usgs.gov/ckan/dataset/654c9446-dae8-47bf-a8af-b16fa943d469/resource/83f900a7-e11a-4f9f-9922-f85b3d9e9bd8/download/full.jpg\n",
      "Visiting URL: https://astrogeology.usgs.gov/search/map/syrtis_major_hemisphere_enhanced\n",
      "Found image link: https://astrogeology.usgs.govhttps://astrogeology.usgs.gov/ckan/dataset/667ca880-a067-4745-8849-313b1cdf7836/resource/beba1688-450a-4a24-80d4-dce037cd26f2/download/full.jpg\n",
      "Visiting URL: https://astrogeology.usgs.gov/search/map/schiaparelli_hemisphere_unenhanced\n",
      "Found image link: https://astrogeology.usgs.govhttps://astrogeology.usgs.gov/ckan/dataset/21df10db-abbf-4862-b026-db145738b7e7/resource/b71be884-a3be-4b02-ac49-8bc9dc979d7a/download/full.jpg\n",
      "Visiting URL: https://astrogeology.usgs.gov/search/map/schiaparelli_hemisphere_enhanced\n",
      "Found image link: https://astrogeology.usgs.govhttps://astrogeology.usgs.gov/ckan/dataset/f2f66fc0-a78f-4923-b8a5-2c54ad3e58ae/resource/1b51a7c8-c3db-457d-9012-fb3287b0e167/download/full.jpg\n",
      "Visiting URL: https://astrogeology.usgs.gov/search/map/cerberus_hemisphere_unenhanced\n",
      "Found image link: https://astrogeology.usgs.govhttps://astrogeology.usgs.gov/ckan/dataset/e5f69f7f-c6c1-44f1-9a98-39f6f0586192/resource/561c3c77-2460-4ad5-a44f-6a5710f9e78a/download/full.jpg\n"
     ]
    },
    {
     "data": {
      "text/plain": [
       "['https://astrogeology.usgs.govNone',\n",
       " 'https://astrogeology.usgs.govhttps://astrogeology.usgs.gov/ckan/dataset/81bd932b-f575-4d57-85b6-d5fd27958ed4/resource/e32f3cda-1b09-4453-9837-86ebc65d6473/download/full.jpg',\n",
       " 'https://astrogeology.usgs.govhttps://astrogeology.usgs.gov/ckan/dataset/70faffb0-986d-4305-8a10-3180d22ae215/resource/347d6267-5f90-4238-8af9-04a45c6c3e0f/download/full.jpg',\n",
       " 'https://astrogeology.usgs.govhttps://astrogeology.usgs.gov/ckan/dataset/35fea1d8-b9db-4471-a09f-688537cfcefc/resource/7ebe81d6-2a94-43b0-9578-378dd9f3e1a5/download/full.jpg',\n",
       " 'https://astrogeology.usgs.govhttps://astrogeology.usgs.gov/ckan/dataset/daa79b13-f5e0-462e-8b7d-c94d9d2907c3/resource/ae080c7e-c4b7-460b-8059-0fa807aa8087/download/full.jpg',\n",
       " 'https://astrogeology.usgs.govhttps://astrogeology.usgs.gov/ckan/dataset/654c9446-dae8-47bf-a8af-b16fa943d469/resource/83f900a7-e11a-4f9f-9922-f85b3d9e9bd8/download/full.jpg',\n",
       " 'https://astrogeology.usgs.govhttps://astrogeology.usgs.gov/ckan/dataset/667ca880-a067-4745-8849-313b1cdf7836/resource/beba1688-450a-4a24-80d4-dce037cd26f2/download/full.jpg',\n",
       " 'https://astrogeology.usgs.govhttps://astrogeology.usgs.gov/ckan/dataset/21df10db-abbf-4862-b026-db145738b7e7/resource/b71be884-a3be-4b02-ac49-8bc9dc979d7a/download/full.jpg',\n",
       " 'https://astrogeology.usgs.govhttps://astrogeology.usgs.gov/ckan/dataset/f2f66fc0-a78f-4923-b8a5-2c54ad3e58ae/resource/1b51a7c8-c3db-457d-9012-fb3287b0e167/download/full.jpg',\n",
       " 'https://astrogeology.usgs.govhttps://astrogeology.usgs.gov/ckan/dataset/e5f69f7f-c6c1-44f1-9a98-39f6f0586192/resource/561c3c77-2460-4ad5-a44f-6a5710f9e78a/download/full.jpg']"
      ]
     },
     "execution_count": 104,
     "metadata": {},
     "output_type": "execute_result"
    }
   ],
   "source": [
    "full_imgs = []\n",
    "\n",
    "for url in thumbnail_links:\n",
    "    \n",
    "    # Print the URL to debug\n",
    "    print(f\"Visiting URL: {url}\")\n",
    "    \n",
    "    # Click through each thumbnail link\n",
    "    browser.visit(url)\n",
    "    \n",
    "    # Wait for the page to load\n",
    "    browser.is_element_present_by_css('img.wide-image', wait_time=10)\n",
    "    \n",
    "    html = browser.html\n",
    "    soup = bs(html, 'html.parser')\n",
    "    \n",
    "    # Scrape each page for the relative image path\n",
    "    results = soup.find_all('img', class_='wide-image')\n",
    "    \n",
    "    # Check if results is not empty\n",
    "    if results:\n",
    "        relative_img_path = results[0]['src']\n",
    "        \n",
    "        # Combine the relative image path to get the full URL\n",
    "        img_link = 'https://astrogeology.usgs.gov' + relative_img_path\n",
    "        \n",
    "        # Print the image link to debug\n",
    "        print(f\"Found image link: {img_link}\")\n",
    "        \n",
    "        # Add full image links to a list\n",
    "        full_imgs.append(img_link)\n",
    "    else:\n",
    "        print(f\"No image found for URL: {url}\")\n",
    "\n",
    "full_imgs\n"
   ]
  },
  {
   "cell_type": "code",
   "execution_count": 105,
   "id": "3ebe668b-a213-438c-9e88-219a6d5de10e",
   "metadata": {},
   "outputs": [
    {
     "data": {
      "text/plain": [
       "['https://astrogeology.usgs.gov/search/map/mars_odyssey_themis_ir_day_global_mosaic_100m_v12',\n",
       " 'https://astrogeology.usgs.gov/search/map/mars_viking_colorized_global_mosaic_232m',\n",
       " 'https://astrogeology.usgs.gov/search/map/mars_odyssey_themis_ir_night_60n60s_mosaic_100m_v14',\n",
       " 'https://astrogeology.usgs.gov/search/map/mars_mro_marci_daily_global_weather_maps_pds4_archive',\n",
       " 'https://astrogeology.usgs.gov/search/map/mars-mro-ctx-global-mosaic-murray-lab-v1']"
      ]
     },
     "execution_count": 105,
     "metadata": {},
     "output_type": "execute_result"
    }
   ],
   "source": [
    "html = browser.html\n",
    "soup = bs(html, 'html.parser')\n",
    "\n",
    "# Search for the divs containing the links\n",
    "results = soup.find_all('div', class_=\"item\")\n",
    "\n",
    "# Initialize an empty list to store the links\n",
    "thumbnail_links = []\n",
    "\n",
    "# Check if results is not empty\n",
    "if results:\n",
    "    # Loop through the results and extract the links\n",
    "    for result in results:\n",
    "        a_tag = result.find('a', class_='itemLink product-item')\n",
    "        if a_tag:\n",
    "            href = a_tag['href']\n",
    "            # Check if href is a relative path\n",
    "            if href.startswith('/'):\n",
    "                link = 'https://astrogeology.usgs.gov' + href\n",
    "            else:\n",
    "                link = href\n",
    "            thumbnail_links.append(link)\n",
    "else:\n",
    "    print(\"No results found with the specified class name.\")\n",
    "\n",
    "thumbnail_links\n"
   ]
  },
  {
   "cell_type": "code",
   "execution_count": null,
   "id": "80358be9-c863-4f52-95dc-103126784494",
   "metadata": {},
   "outputs": [],
   "source": []
  }
 ],
 "metadata": {
  "kernelspec": {
   "display_name": "Python 3 (ipykernel)",
   "language": "python",
   "name": "python3"
  },
  "language_info": {
   "codemirror_mode": {
    "name": "ipython",
    "version": 3
   },
   "file_extension": ".py",
   "mimetype": "text/x-python",
   "name": "python",
   "nbconvert_exporter": "python",
   "pygments_lexer": "ipython3",
   "version": "3.12.6"
  }
 },
 "nbformat": 4,
 "nbformat_minor": 5
}
